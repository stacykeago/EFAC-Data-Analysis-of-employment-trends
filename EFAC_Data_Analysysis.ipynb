{
  "nbformat": 4,
  "nbformat_minor": 0,
  "metadata": {
    "colab": {
      "provenance": [],
      "toc_visible": true,
      "collapsed_sections": [
        "A0LpojVJ-2Wp",
        "_N855nJujhFK",
        "BccVDcevZ_Js",
        "ZU2VixL76w5c",
        "fXNkdt0B7fuJ",
        "asmbIYul8JRE",
        "q6C5O8WUacCf",
        "9y6ALoYIKAoe",
        "_E6HN-deYwHX"
      ],
      "include_colab_link": true
    },
    "kernelspec": {
      "name": "python3",
      "display_name": "Python 3"
    },
    "language_info": {
      "name": "python"
    }
  },
  "cells": [
    {
      "cell_type": "markdown",
      "metadata": {
        "id": "view-in-github",
        "colab_type": "text"
      },
      "source": [
        "<a href=\"https://colab.research.google.com/github/stacykeago/EFAC-Data-Analysis-of-employment-trends/blob/main/EFAC_Data_Analysysis.ipynb\" target=\"_parent\"><img src=\"https://colab.research.google.com/assets/colab-badge.svg\" alt=\"Open In Colab\"/></a>"
      ]
    },
    {
      "cell_type": "markdown",
      "metadata": {
        "id": "iAioa7YfuqXc"
      },
      "source": [
        "# 1.0 INTRODUCTION"
      ]
    },
    {
      "cell_type": "markdown",
      "metadata": {
        "id": "BiVMxVL1FtZr"
      },
      "source": [
        "## 1.1 Define the question\n",
        "### Analyze and interpret the attached data and create a high level report  for the EFAC Stakeholders.\n"
      ]
    },
    {
      "cell_type": "markdown",
      "metadata": {
        "id": "KZtAjIRtF7L6"
      },
      "source": [
        "## 1.2 Define the metric for success"
      ]
    },
    {
      "cell_type": "markdown",
      "metadata": {
        "id": "SsOuKhViGEcF"
      },
      "source": [
        "## 1.3  Define the context\n",
        "### Analysis of data from EducationFor All Children"
      ]
    },
    {
      "cell_type": "markdown",
      "metadata": {
        "id": "fZN9CwNrGFv9"
      },
      "source": [
        "## 1.4 Define the experimental design taken "
      ]
    },
    {
      "cell_type": "markdown",
      "metadata": {
        "id": "rCe9RzmiGe-I"
      },
      "source": [
        "## 1.5 Define the appropriateness of the available data to answer the given question\n",
        "<https://docs.google.com/spreadsheets/d/1gLDoXAAPGSdCXMnxMSJAzatSh9BBN7mc/edit#gid=1550449818>"
      ]
    },
    {
      "cell_type": "markdown",
      "metadata": {
        "id": "1pCmzpGkwHVL"
      },
      "source": [
        "# 2.0 Import the libraries."
      ]
    },
    {
      "cell_type": "code",
      "metadata": {
        "id": "52Gwayndo7bC"
      },
      "source": [
        "#import the libraries.\n",
        "import pandas as pd\n",
        "import numpy as np\n",
        "import matplotlib.pyplot as plt\n",
        "import seaborn as sns"
      ],
      "execution_count": 66,
      "outputs": []
    },
    {
      "cell_type": "markdown",
      "metadata": {
        "id": "dbVBTFeRwVhx"
      },
      "source": [
        "# 3.0 Upload the datasets"
      ]
    },
    {
      "cell_type": "code",
      "metadata": {
        "id": "B42TwYSjHDCS",
        "colab": {
          "base_uri": "https://localhost:8080/",
          "height": 854
        },
        "outputId": "27523f76-7734-4f67-857d-861b0de5fd68"
      },
      "source": [
        "# Upload the datasets -\n",
        "# Preview the dataset\n",
        "df = pd.read_excel('/content/2022 Annual Alumni Survey-Master File.xlsx')\n",
        "df.head()"
      ],
      "execution_count": 67,
      "outputs": [
        {
          "output_type": "execute_result",
          "data": {
            "text/plain": [
              "   EFAC ID                         PS School Name  \\\n",
              "0      901  Nairobi Institute of Business Studies   \n",
              "1      902               Jomo Kenyatta University   \n",
              "2      905         Kenya Medical Training College   \n",
              "3      907                    Kenyatta University   \n",
              "4      908             Africa Nazarene University   \n",
              "\n",
              "                    PS Program of Study PS Type of degree (level of study)  \\\n",
              "0  Commerce and Business Administration                            Diploma   \n",
              "1  Computers and Information Technology                          Bachelors   \n",
              "2                  Medical Laboratories                            Diploma   \n",
              "3         Social Science and Humanities                            Diploma   \n",
              "4                                   Law                          Bachelors   \n",
              "\n",
              "  Survey Completion Date        Status in SF Finish of Coursework  \\\n",
              "0             2023-01-09  Alumni with degree           2015-12-31   \n",
              "1             2023-01-24  Alumni with degree           2017-06-16   \n",
              "2             2023-01-23  Alumni with degree           2016-07-31   \n",
              "3             2023-01-13  Alumni with degree           2016-03-30   \n",
              "4             2023-01-23  Alumni with degree           2017-08-26   \n",
              "\n",
              "   EFAC Secondary Class  EFAC PS Class  \\\n",
              "0                  2013           2017   \n",
              "1                  2013           2017   \n",
              "2                  2013           2017   \n",
              "3                  2013           2017   \n",
              "4                  2013           2017   \n",
              "\n",
              "  What is your current employment status?  ...  \\\n",
              "0                     Casual/Not Employed  ...   \n",
              "1                       Formally Employed  ...   \n",
              "2                       Formally Employed  ...   \n",
              "3                       Formally Employed  ...   \n",
              "4                       Formally Employed  ...   \n",
              "\n",
              "        If yes, which certifications have you done?   \\\n",
              "0  Certification in Strategic Management and Lead...   \n",
              "1                                                NaN   \n",
              "2                  licensing exam, phlebotomy course   \n",
              "3                                 Meal Certification   \n",
              "4                             Post Graduate Diploma    \n",
              "\n",
              "  Did you volunteer in the last year?  \\\n",
              "0                                  No   \n",
              "1                                 Yes   \n",
              "2                                  No   \n",
              "3                                 Yes   \n",
              "4                                  No   \n",
              "\n",
              "  Organization Name(s) (if you did your community service with an organization)  \\\n",
              "0                                                NaN                              \n",
              "1                         Mama Ngina Primary School                               \n",
              "2                                                NaN                              \n",
              "3                                Project Girl 4 Girl                              \n",
              "4                                                NaN                              \n",
              "\n",
              "  Briefly describe the type of work you did for community service  \\\n",
              "0                                                NaN                \n",
              "1  Participated in the StoryMoja Read Aloud Chall...                \n",
              "2                                                NaN                \n",
              "3  Offered mentorship to the mentees selected by G4G                \n",
              "4                                                NaN                \n",
              "\n",
              "  Number of hours volunteered in the last year? (E.g. If you volunteer 2 hours on the weekends, that would be 8 hours a month or 72 hours annually.)  \\\n",
              "0                                                NaN                                                                                                   \n",
              "1                                                  2                                                                                                   \n",
              "2                                                NaN                                                                                                   \n",
              "3                                                101                                                                                                   \n",
              "4                                                NaN                                                                                                   \n",
              "\n",
              "  Do you have a leadership role in any of the community groups that you volunteer your time with?  \\\n",
              "0                                                NaN                                                \n",
              "1                                                 No                                                \n",
              "2                                                NaN                                                \n",
              "3                                                 No                                                \n",
              "4                                                NaN                                                \n",
              "\n",
              "  If yes, briefly explain your leadership role(s):  \\\n",
              "0                                              NaN   \n",
              "1                                              NaN   \n",
              "2                                              NaN   \n",
              "3                                              NaN   \n",
              "4                                              NaN   \n",
              "\n",
              "  Do you pay fees for the education of others?  \\\n",
              "0                                           No   \n",
              "1                                          Yes   \n",
              "2                                          Yes   \n",
              "3                                          Yes   \n",
              "4                                          Yes   \n",
              "\n",
              "  How many people's education do you support?  \\\n",
              "0                                         NaN   \n",
              "1                                         4.0   \n",
              "2                                         2.0   \n",
              "3                                         2.0   \n",
              "4                                         4.0   \n",
              "\n",
              "  Please specify whose education you support?  \n",
              "0                                         NaN  \n",
              "1                 Sister;Brother;Nephew;Niece  \n",
              "2                                Nephew;Niece  \n",
              "3                                Sister;Niece  \n",
              "4                          Sister;Brother;Son  \n",
              "\n",
              "[5 rows x 39 columns]"
            ],
            "text/html": [
              "\n",
              "  <div id=\"df-55f46776-9924-4dab-88fd-8ea1e8eb17a0\">\n",
              "    <div class=\"colab-df-container\">\n",
              "      <div>\n",
              "<style scoped>\n",
              "    .dataframe tbody tr th:only-of-type {\n",
              "        vertical-align: middle;\n",
              "    }\n",
              "\n",
              "    .dataframe tbody tr th {\n",
              "        vertical-align: top;\n",
              "    }\n",
              "\n",
              "    .dataframe thead th {\n",
              "        text-align: right;\n",
              "    }\n",
              "</style>\n",
              "<table border=\"1\" class=\"dataframe\">\n",
              "  <thead>\n",
              "    <tr style=\"text-align: right;\">\n",
              "      <th></th>\n",
              "      <th>EFAC ID</th>\n",
              "      <th>PS School Name</th>\n",
              "      <th>PS Program of Study</th>\n",
              "      <th>PS Type of degree (level of study)</th>\n",
              "      <th>Survey Completion Date</th>\n",
              "      <th>Status in SF</th>\n",
              "      <th>Finish of Coursework</th>\n",
              "      <th>EFAC Secondary Class</th>\n",
              "      <th>EFAC PS Class</th>\n",
              "      <th>What is your current employment status?</th>\n",
              "      <th>...</th>\n",
              "      <th>If yes, which certifications have you done?</th>\n",
              "      <th>Did you volunteer in the last year?</th>\n",
              "      <th>Organization Name(s) (if you did your community service with an organization)</th>\n",
              "      <th>Briefly describe the type of work you did for community service</th>\n",
              "      <th>Number of hours volunteered in the last year? (E.g. If you volunteer 2 hours on the weekends, that would be 8 hours a month or 72 hours annually.)</th>\n",
              "      <th>Do you have a leadership role in any of the community groups that you volunteer your time with?</th>\n",
              "      <th>If yes, briefly explain your leadership role(s):</th>\n",
              "      <th>Do you pay fees for the education of others?</th>\n",
              "      <th>How many people's education do you support?</th>\n",
              "      <th>Please specify whose education you support?</th>\n",
              "    </tr>\n",
              "  </thead>\n",
              "  <tbody>\n",
              "    <tr>\n",
              "      <th>0</th>\n",
              "      <td>901</td>\n",
              "      <td>Nairobi Institute of Business Studies</td>\n",
              "      <td>Commerce and Business Administration</td>\n",
              "      <td>Diploma</td>\n",
              "      <td>2023-01-09</td>\n",
              "      <td>Alumni with degree</td>\n",
              "      <td>2015-12-31</td>\n",
              "      <td>2013</td>\n",
              "      <td>2017</td>\n",
              "      <td>Casual/Not Employed</td>\n",
              "      <td>...</td>\n",
              "      <td>Certification in Strategic Management and Lead...</td>\n",
              "      <td>No</td>\n",
              "      <td>NaN</td>\n",
              "      <td>NaN</td>\n",
              "      <td>NaN</td>\n",
              "      <td>NaN</td>\n",
              "      <td>NaN</td>\n",
              "      <td>No</td>\n",
              "      <td>NaN</td>\n",
              "      <td>NaN</td>\n",
              "    </tr>\n",
              "    <tr>\n",
              "      <th>1</th>\n",
              "      <td>902</td>\n",
              "      <td>Jomo Kenyatta University</td>\n",
              "      <td>Computers and Information Technology</td>\n",
              "      <td>Bachelors</td>\n",
              "      <td>2023-01-24</td>\n",
              "      <td>Alumni with degree</td>\n",
              "      <td>2017-06-16</td>\n",
              "      <td>2013</td>\n",
              "      <td>2017</td>\n",
              "      <td>Formally Employed</td>\n",
              "      <td>...</td>\n",
              "      <td>NaN</td>\n",
              "      <td>Yes</td>\n",
              "      <td>Mama Ngina Primary School</td>\n",
              "      <td>Participated in the StoryMoja Read Aloud Chall...</td>\n",
              "      <td>2</td>\n",
              "      <td>No</td>\n",
              "      <td>NaN</td>\n",
              "      <td>Yes</td>\n",
              "      <td>4.0</td>\n",
              "      <td>Sister;Brother;Nephew;Niece</td>\n",
              "    </tr>\n",
              "    <tr>\n",
              "      <th>2</th>\n",
              "      <td>905</td>\n",
              "      <td>Kenya Medical Training College</td>\n",
              "      <td>Medical Laboratories</td>\n",
              "      <td>Diploma</td>\n",
              "      <td>2023-01-23</td>\n",
              "      <td>Alumni with degree</td>\n",
              "      <td>2016-07-31</td>\n",
              "      <td>2013</td>\n",
              "      <td>2017</td>\n",
              "      <td>Formally Employed</td>\n",
              "      <td>...</td>\n",
              "      <td>licensing exam, phlebotomy course</td>\n",
              "      <td>No</td>\n",
              "      <td>NaN</td>\n",
              "      <td>NaN</td>\n",
              "      <td>NaN</td>\n",
              "      <td>NaN</td>\n",
              "      <td>NaN</td>\n",
              "      <td>Yes</td>\n",
              "      <td>2.0</td>\n",
              "      <td>Nephew;Niece</td>\n",
              "    </tr>\n",
              "    <tr>\n",
              "      <th>3</th>\n",
              "      <td>907</td>\n",
              "      <td>Kenyatta University</td>\n",
              "      <td>Social Science and Humanities</td>\n",
              "      <td>Diploma</td>\n",
              "      <td>2023-01-13</td>\n",
              "      <td>Alumni with degree</td>\n",
              "      <td>2016-03-30</td>\n",
              "      <td>2013</td>\n",
              "      <td>2017</td>\n",
              "      <td>Formally Employed</td>\n",
              "      <td>...</td>\n",
              "      <td>Meal Certification</td>\n",
              "      <td>Yes</td>\n",
              "      <td>Project Girl 4 Girl</td>\n",
              "      <td>Offered mentorship to the mentees selected by G4G</td>\n",
              "      <td>101</td>\n",
              "      <td>No</td>\n",
              "      <td>NaN</td>\n",
              "      <td>Yes</td>\n",
              "      <td>2.0</td>\n",
              "      <td>Sister;Niece</td>\n",
              "    </tr>\n",
              "    <tr>\n",
              "      <th>4</th>\n",
              "      <td>908</td>\n",
              "      <td>Africa Nazarene University</td>\n",
              "      <td>Law</td>\n",
              "      <td>Bachelors</td>\n",
              "      <td>2023-01-23</td>\n",
              "      <td>Alumni with degree</td>\n",
              "      <td>2017-08-26</td>\n",
              "      <td>2013</td>\n",
              "      <td>2017</td>\n",
              "      <td>Formally Employed</td>\n",
              "      <td>...</td>\n",
              "      <td>Post Graduate Diploma</td>\n",
              "      <td>No</td>\n",
              "      <td>NaN</td>\n",
              "      <td>NaN</td>\n",
              "      <td>NaN</td>\n",
              "      <td>NaN</td>\n",
              "      <td>NaN</td>\n",
              "      <td>Yes</td>\n",
              "      <td>4.0</td>\n",
              "      <td>Sister;Brother;Son</td>\n",
              "    </tr>\n",
              "  </tbody>\n",
              "</table>\n",
              "<p>5 rows × 39 columns</p>\n",
              "</div>\n",
              "      <button class=\"colab-df-convert\" onclick=\"convertToInteractive('df-55f46776-9924-4dab-88fd-8ea1e8eb17a0')\"\n",
              "              title=\"Convert this dataframe to an interactive table.\"\n",
              "              style=\"display:none;\">\n",
              "        \n",
              "  <svg xmlns=\"http://www.w3.org/2000/svg\" height=\"24px\"viewBox=\"0 0 24 24\"\n",
              "       width=\"24px\">\n",
              "    <path d=\"M0 0h24v24H0V0z\" fill=\"none\"/>\n",
              "    <path d=\"M18.56 5.44l.94 2.06.94-2.06 2.06-.94-2.06-.94-.94-2.06-.94 2.06-2.06.94zm-11 1L8.5 8.5l.94-2.06 2.06-.94-2.06-.94L8.5 2.5l-.94 2.06-2.06.94zm10 10l.94 2.06.94-2.06 2.06-.94-2.06-.94-.94-2.06-.94 2.06-2.06.94z\"/><path d=\"M17.41 7.96l-1.37-1.37c-.4-.4-.92-.59-1.43-.59-.52 0-1.04.2-1.43.59L10.3 9.45l-7.72 7.72c-.78.78-.78 2.05 0 2.83L4 21.41c.39.39.9.59 1.41.59.51 0 1.02-.2 1.41-.59l7.78-7.78 2.81-2.81c.8-.78.8-2.07 0-2.86zM5.41 20L4 18.59l7.72-7.72 1.47 1.35L5.41 20z\"/>\n",
              "  </svg>\n",
              "      </button>\n",
              "      \n",
              "  <style>\n",
              "    .colab-df-container {\n",
              "      display:flex;\n",
              "      flex-wrap:wrap;\n",
              "      gap: 12px;\n",
              "    }\n",
              "\n",
              "    .colab-df-convert {\n",
              "      background-color: #E8F0FE;\n",
              "      border: none;\n",
              "      border-radius: 50%;\n",
              "      cursor: pointer;\n",
              "      display: none;\n",
              "      fill: #1967D2;\n",
              "      height: 32px;\n",
              "      padding: 0 0 0 0;\n",
              "      width: 32px;\n",
              "    }\n",
              "\n",
              "    .colab-df-convert:hover {\n",
              "      background-color: #E2EBFA;\n",
              "      box-shadow: 0px 1px 2px rgba(60, 64, 67, 0.3), 0px 1px 3px 1px rgba(60, 64, 67, 0.15);\n",
              "      fill: #174EA6;\n",
              "    }\n",
              "\n",
              "    [theme=dark] .colab-df-convert {\n",
              "      background-color: #3B4455;\n",
              "      fill: #D2E3FC;\n",
              "    }\n",
              "\n",
              "    [theme=dark] .colab-df-convert:hover {\n",
              "      background-color: #434B5C;\n",
              "      box-shadow: 0px 1px 3px 1px rgba(0, 0, 0, 0.15);\n",
              "      filter: drop-shadow(0px 1px 2px rgba(0, 0, 0, 0.3));\n",
              "      fill: #FFFFFF;\n",
              "    }\n",
              "  </style>\n",
              "\n",
              "      <script>\n",
              "        const buttonEl =\n",
              "          document.querySelector('#df-55f46776-9924-4dab-88fd-8ea1e8eb17a0 button.colab-df-convert');\n",
              "        buttonEl.style.display =\n",
              "          google.colab.kernel.accessAllowed ? 'block' : 'none';\n",
              "\n",
              "        async function convertToInteractive(key) {\n",
              "          const element = document.querySelector('#df-55f46776-9924-4dab-88fd-8ea1e8eb17a0');\n",
              "          const dataTable =\n",
              "            await google.colab.kernel.invokeFunction('convertToInteractive',\n",
              "                                                     [key], {});\n",
              "          if (!dataTable) return;\n",
              "\n",
              "          const docLinkHtml = 'Like what you see? Visit the ' +\n",
              "            '<a target=\"_blank\" href=https://colab.research.google.com/notebooks/data_table.ipynb>data table notebook</a>'\n",
              "            + ' to learn more about interactive tables.';\n",
              "          element.innerHTML = '';\n",
              "          dataTable['output_type'] = 'display_data';\n",
              "          await google.colab.output.renderOutput(dataTable, element);\n",
              "          const docLink = document.createElement('div');\n",
              "          docLink.innerHTML = docLinkHtml;\n",
              "          element.appendChild(docLink);\n",
              "        }\n",
              "      </script>\n",
              "    </div>\n",
              "  </div>\n",
              "  "
            ]
          },
          "metadata": {},
          "execution_count": 67
        }
      ]
    },
    {
      "cell_type": "markdown",
      "metadata": {
        "id": "Us3UEWlkwpLv"
      },
      "source": [
        "# 5.0 Accesing dataset information."
      ]
    },
    {
      "cell_type": "code",
      "metadata": {
        "colab": {
          "base_uri": "https://localhost:8080/"
        },
        "id": "yRa_vF2LIrz1",
        "outputId": "7c5c0b5c-6b1f-47f4-8df9-373c5144a865"
      },
      "source": [
        "#list of column names\n",
        "print(df.columns)"
      ],
      "execution_count": 68,
      "outputs": [
        {
          "output_type": "stream",
          "name": "stdout",
          "text": [
            "Index(['EFAC ID', 'PS School Name', 'PS Program of Study',\n",
            "       'PS Type of degree (level of study)', 'Survey Completion Date',\n",
            "       'Status in SF', 'Finish of Coursework', 'EFAC Secondary Class',\n",
            "       'EFAC PS Class', 'What is your current employment status?',\n",
            "       'Current status if other',\n",
            "       'What is the name of the company/organization you currently work for?',\n",
            "       'What is your job title? ', ' What is the level of your job?',\n",
            "       'When did you begin working for this company/organization?',\n",
            "       'If you are on a contract, approximately what is the end date?',\n",
            "       'Are you earning above the Kenya living wage (KSh25,000/month)?',\n",
            "       'How did you find your job?',\n",
            "       'Are you actively looking for other employment?',\n",
            "       'Self Employ: What is the name of your business? (leave blank if n/a)',\n",
            "       'Self employ: How many paid employees do you have in your business (not including you)?',\n",
            "       'Self employ: Why did you choose to be self-employed rather than to work for someone else?',\n",
            "       'In school: What is your post-graduate program of study and the name of the institution in which you're enrolled?',\n",
            "       'When did you start your additional studies?',\n",
            "       'What is your expected completion date?',\n",
            "       'Unemployed: What are you engaged in as you look for employment?',\n",
            "       'What type(s) of job(s) are you applying/looking for?',\n",
            "       'How have you used the EFAC Career Resource Center to help with your job search?',\n",
            "       'Have you done any certifications beyond your PS degree? ',\n",
            "       'If yes, which certifications have you done? ',\n",
            "       'Did you volunteer in the last year?',\n",
            "       'Organization Name(s) (if you did your community service with an organization)',\n",
            "       'Briefly describe the type of work you did for community service',\n",
            "       'Number of hours volunteered in the last year? (E.g. If you volunteer 2 hours on the weekends, that would be 8 hours a month or 72 hours annually.)',\n",
            "       'Do you have a leadership role in any of the community groups that you volunteer your time with?',\n",
            "       'If yes, briefly explain your leadership role(s):',\n",
            "       'Do you pay fees for the education of others?',\n",
            "       'How many people's education do you support?',\n",
            "       'Please specify whose education you support?'],\n",
            "      dtype='object')\n"
          ]
        }
      ]
    },
    {
      "cell_type": "markdown",
      "source": [
        "## 5.1 Drop Columns"
      ],
      "metadata": {
        "id": "A0LpojVJ-2Wp"
      }
    },
    {
      "cell_type": "code",
      "source": [
        "# Drop columns that will not be part of our analysis\n",
        "df.drop([\"Survey Completion Date\", \n",
        "         \"Current status if other\", \n",
        "         \"What is the name of the company/organization you currently work for?\",  \n",
        "         \"Self employ: How many paid employees do you have in your business (not including you)?\",\n",
        "          \"Self employ: How many paid employees do you have in your business (not including you)?\",\n",
        "        \"Briefly describe the type of work you did for community service\",\n",
        "         \"Please specify whose education you support?\",\n",
        "         \"How many people's education do you support?\",\n",
        "         \"Unemployed: What are you engaged in as you look for employment?\",\n",
        "         \"Organization Name(s) (if you did your community service with an organization)\",\n",
        "         \"If yes, briefly explain your leadership role(s):\",\n",
        "         \"In school: What is your post-graduate program of study and the name of the institution in which you're enrolled?\",\n",
        "         \"When did you begin working for this company/organization?\",\n",
        "         \"Finish of Coursework\",\n",
        "         \"If you are on a contract, approximately what is the end date?\",\n",
        "         \"Self Employ: What is the name of your business? (leave blank if n/a)\",\n",
        "         \"Self employ: Why did you choose to be self-employed rather than to work for someone else?\",              \n",
        "         \"What is your expected completion date?\",\n",
        "         \"EFAC Secondary Class\",\"What type(s) of job(s) are you applying/looking for?\" ], axis = 1, inplace = True)\n"
      ],
      "metadata": {
        "id": "wXiGvu3hEztW"
      },
      "execution_count": 69,
      "outputs": []
    },
    {
      "cell_type": "markdown",
      "source": [
        "## 5.2 Rename columns"
      ],
      "metadata": {
        "id": "W-iiDvvQ_O4C"
      }
    },
    {
      "cell_type": "code",
      "source": [
        "df.rename(columns = {'PS Type of degree (level of study)' : 'Degree_type', \n",
        "                     'What is your current employment status?' : 'job_Status' ,\n",
        "                     'Did you volunteer in the last year?': 'Volunteer', \n",
        "                     'Do you have a leadership role in any of the community groups that you volunteer your time with?' : 'leadership?',\n",
        "                     ' What is the level of your job?': 'job_level',\n",
        "                     'Are you earning above the Kenya living wage (KSh25,000/month)?' : 'Over25K?',                               \n",
        "                     'Number of hours volunteered in the last year? (E.g. If you volunteer 2 hours on the weekends, that would be 8 hours a month or 72 hours annually.)' : 'V_hours' }, inplace = True)"
      ],
      "metadata": {
        "id": "7v0oexat8XUp"
      },
      "execution_count": 70,
      "outputs": []
    },
    {
      "cell_type": "code",
      "source": [
        "# Check the items in the column \"Jobstatus\"\n",
        "pd.unique(df[['job_Status']].values.ravel())"
      ],
      "metadata": {
        "colab": {
          "base_uri": "https://localhost:8080/"
        },
        "id": "RLzOKzf5iB9G",
        "outputId": "d678d7a4-ea33-49a1-dcc1-cd3796d2a866"
      },
      "execution_count": 71,
      "outputs": [
        {
          "output_type": "execute_result",
          "data": {
            "text/plain": [
              "array(['Casual/Not Employed', 'Formally Employed', 'Self-employed',\n",
              "       'Paid Internship', 'Contract ', 'Employed',\n",
              "       'None, because in school full-time ', nan, 'Other',\n",
              "       'None, currently in school ', 'Volunteering', 'Paid locums ',\n",
              "       \"None, because I'm in a full-time (unpaid) internship\"],\n",
              "      dtype=object)"
            ]
          },
          "metadata": {},
          "execution_count": 71
        }
      ]
    },
    {
      "cell_type": "code",
      "source": [
        " row_labels={ \"None, because I'm in a full-time (unpaid) internship\" : \"Unpaid intern\"}\n",
        "df.rename(index= row_labels, inplace=True)\n"
      ],
      "metadata": {
        "id": "7ZvbvczVj-wJ"
      },
      "execution_count": 72,
      "outputs": []
    },
    {
      "cell_type": "markdown",
      "source": [
        "### # Remove spaces between the column names"
      ],
      "metadata": {
        "id": "syCCWaS2AxlZ"
      }
    },
    {
      "cell_type": "code",
      "source": [
        "# Remove spaces between the column names\n",
        "df.columns = df.columns.str.replace(' ', '')"
      ],
      "metadata": {
        "id": "r1FxfC5laSHk"
      },
      "execution_count": 73,
      "outputs": []
    },
    {
      "cell_type": "code",
      "source": [
        "# Preview column names\n",
        "print(df.columns)"
      ],
      "metadata": {
        "colab": {
          "base_uri": "https://localhost:8080/"
        },
        "id": "0OvkbWWiaYVU",
        "outputId": "11862fb2-f04c-45b7-a84e-a056aa8160cc"
      },
      "execution_count": 74,
      "outputs": [
        {
          "output_type": "stream",
          "name": "stdout",
          "text": [
            "Index(['EFACID', 'PSSchoolName', 'PSProgramofStudy', 'Degree_type',\n",
            "       'StatusinSF', 'EFACPSClass', 'job_Status', 'Whatisyourjobtitle?',\n",
            "       'job_level', 'Over25K?', 'Howdidyoufindyourjob?',\n",
            "       'Areyouactivelylookingforotheremployment?',\n",
            "       'Whendidyoustartyouradditionalstudies?',\n",
            "       'HowhaveyouusedtheEFACCareerResourceCentertohelpwithyourjobsearch?',\n",
            "       'HaveyoudoneanycertificationsbeyondyourPSdegree? ',\n",
            "       'Ifyes,whichcertificationshaveyoudone? ', 'Volunteer', 'V_hours',\n",
            "       'leadership?', 'Doyoupayfeesfortheeducationofothers?'],\n",
            "      dtype='object')\n"
          ]
        }
      ]
    },
    {
      "cell_type": "markdown",
      "source": [
        "## 5.3 Missing values"
      ],
      "metadata": {
        "id": "2ePK0-9v5Uky"
      }
    },
    {
      "cell_type": "code",
      "source": [
        "# Number of missing values per column\n",
        "print(df.isnull().sum())"
      ],
      "metadata": {
        "colab": {
          "base_uri": "https://localhost:8080/"
        },
        "id": "ZbwZl9Dv5Abr",
        "outputId": "7b2397f3-e1c2-4015-e6f7-295c8729baeb"
      },
      "execution_count": 75,
      "outputs": [
        {
          "output_type": "stream",
          "name": "stdout",
          "text": [
            "EFACID                                                                0\n",
            "PSSchoolName                                                          0\n",
            "PSProgramofStudy                                                      0\n",
            "Degree_type                                                           0\n",
            "StatusinSF                                                            0\n",
            "EFACPSClass                                                           0\n",
            "job_Status                                                            1\n",
            "Whatisyourjobtitle?                                                  44\n",
            "job_level                                                            45\n",
            "Over25K?                                                             27\n",
            "Howdidyoufindyourjob?                                                33\n",
            "Areyouactivelylookingforotheremployment?                             63\n",
            "Whendidyoustartyouradditionalstudies?                                92\n",
            "HowhaveyouusedtheEFACCareerResourceCentertohelpwithyourjobsearch?    57\n",
            "HaveyoudoneanycertificationsbeyondyourPSdegree?                       3\n",
            "Ifyes,whichcertificationshaveyoudone?                                49\n",
            "Volunteer                                                             0\n",
            "V_hours                                                              54\n",
            "leadership?                                                          54\n",
            "Doyoupayfeesfortheeducationofothers?                                  0\n",
            "dtype: int64\n"
          ]
        }
      ]
    },
    {
      "cell_type": "markdown",
      "metadata": {
        "id": "HRuof1Zmw2DN"
      },
      "source": [
        "# 6.0 Data cleaning."
      ]
    },
    {
      "cell_type": "markdown",
      "source": [
        "## 6.1 Checking column datatypes"
      ],
      "metadata": {
        "id": "0Ff6cSIs59sf"
      }
    },
    {
      "cell_type": "code",
      "metadata": {
        "colab": {
          "base_uri": "https://localhost:8080/"
        },
        "id": "AIauq1Q-J68Q",
        "outputId": "0f251b8a-5325-4891-d726-f30583def314"
      },
      "source": [
        "#Checking column datatypes\n",
        "df.dtypes"
      ],
      "execution_count": 76,
      "outputs": [
        {
          "output_type": "execute_result",
          "data": {
            "text/plain": [
              "EFACID                                                                        int64\n",
              "PSSchoolName                                                                 object\n",
              "PSProgramofStudy                                                             object\n",
              "Degree_type                                                                  object\n",
              "StatusinSF                                                                   object\n",
              "EFACPSClass                                                                   int64\n",
              "job_Status                                                                   object\n",
              "Whatisyourjobtitle?                                                          object\n",
              "job_level                                                                    object\n",
              "Over25K?                                                                     object\n",
              "Howdidyoufindyourjob?                                                        object\n",
              "Areyouactivelylookingforotheremployment?                                     object\n",
              "Whendidyoustartyouradditionalstudies?                                datetime64[ns]\n",
              "HowhaveyouusedtheEFACCareerResourceCentertohelpwithyourjobsearch?            object\n",
              "HaveyoudoneanycertificationsbeyondyourPSdegree?                              object\n",
              "Ifyes,whichcertificationshaveyoudone?                                        object\n",
              "Volunteer                                                                    object\n",
              "V_hours                                                                      object\n",
              "leadership?                                                                  object\n",
              "Doyoupayfeesfortheeducationofothers?                                         object\n",
              "dtype: object"
            ]
          },
          "metadata": {},
          "execution_count": 76
        }
      ]
    },
    {
      "cell_type": "markdown",
      "metadata": {
        "id": "JKYDvVuC5oe-"
      },
      "source": [
        "# 7.0 Analysis "
      ]
    },
    {
      "cell_type": "markdown",
      "metadata": {
        "id": "rie8aeK155I8"
      },
      "source": [
        "## 7.2 Bivariate Analysis"
      ]
    },
    {
      "cell_type": "markdown",
      "metadata": {
        "id": "W-qh47jPNgHM"
      },
      "source": [
        "1. scatter plots\n",
        "2. line charts to determine the relationship between variables, describing the relationship between two quantitative variables, computing and interpreting the Pearson correlation coefficient. \n",
        "3. Provide recommendations for effectively performing bivariate analysis while working on the current problem."
      ]
    },
    {
      "cell_type": "markdown",
      "metadata": {
        "id": "5qPVpgE6TEd4"
      },
      "source": [
        "# Analysis"
      ]
    },
    {
      "cell_type": "markdown",
      "metadata": {
        "id": "pjdvj_2qOMG0"
      },
      "source": [
        "Multivariate Analysis\n",
        "1. finding relationships between variables using multiple regression analysis \n",
        "2. applying reduction techniques to the analysis. \n",
        "3. provide recommendations for effectively performing univariate analysis.\n",
        "4. recommendations for effectively performing multivariate analysis while working on the current problem."
      ]
    },
    {
      "cell_type": "markdown",
      "source": [
        "###  To determine the number of students Formally employed and earn over 25,000KSH and group them according to university"
      ],
      "metadata": {
        "id": "_N855nJujhFK"
      }
    },
    {
      "cell_type": "code",
      "metadata": {
        "colab": {
          "base_uri": "https://localhost:8080/"
        },
        "id": "2Rov18zbTNLD",
        "outputId": "e7078dbf-22f0-4a00-c434-2dd32d537184"
      },
      "source": [
        "#To determine the number of students Formally employed and earn over 25,000KSH and group them according to university\n",
        "\n",
        "B= df.loc[( df['job_Status']=='Formally Employed')& (df['Over25K?']=='Yes')]\n",
        "B.value_counts('PSSchoolName')\n"
      ],
      "execution_count": 77,
      "outputs": [
        {
          "output_type": "execute_result",
          "data": {
            "text/plain": [
              "PSSchoolName\n",
              "Jomo Kenyatta University                  6\n",
              "Africa Nazarene University                5\n",
              "Kenyatta University                       4\n",
              "University of Nairobi                     3\n",
              "Multimedia University                     2\n",
              "Technical University of Kenya             2\n",
              "Technical University of Mombasa           2\n",
              "University of Eldoret                     2\n",
              "Egerton University                        1\n",
              "Karatina University                       1\n",
              "Kenya Medical Training College            1\n",
              "Kenya Medical Training College - Bomet    1\n",
              "Carol Teachers College                    1\n",
              "Kibabii University                        1\n",
              "African Leadership University             1\n",
              "Kisumu Polytechnic                        1\n",
              "Maseno University                         1\n",
              "Masinde Muliro University                 1\n",
              "University of Kabianga                    1\n",
              "Kisii University                          1\n",
              "dtype: int64"
            ]
          },
          "metadata": {},
          "execution_count": 77
        }
      ]
    },
    {
      "cell_type": "markdown",
      "metadata": {
        "id": "BccVDcevZ_Js"
      },
      "source": [
        "### To determine the number of people earning above 25,000 according to degree type"
      ]
    },
    {
      "cell_type": "code",
      "metadata": {
        "colab": {
          "base_uri": "https://localhost:8080/"
        },
        "id": "amVrZW3uU9R5",
        "outputId": "28af1f25-ce78-46f8-a1da-f1878fe7835a"
      },
      "source": [
        "#To determine the number of people earning above 25,000 according to degree type\n",
        "#\n",
        "MM=df.loc[(df['Over25K?']=='Yes')]   \n",
        "MM.value_counts('Degree_type') \n"
      ],
      "execution_count": 78,
      "outputs": [
        {
          "output_type": "execute_result",
          "data": {
            "text/plain": [
              "Degree_type\n",
              "Bachelors    28\n",
              "Diploma      15\n",
              "dtype: int64"
            ]
          },
          "metadata": {},
          "execution_count": 78
        }
      ]
    },
    {
      "cell_type": "markdown",
      "source": [
        "### How do the results change within the different segments e.g with Bachelors vs. Diploma or "
      ],
      "metadata": {
        "id": "ZU2VixL76w5c"
      }
    },
    {
      "cell_type": "code",
      "source": [
        "# To determine the number of people employed according to degree type\n",
        "MO=df.loc[(df['job_Status']== 'Formally Employed')]     \n",
        "MO.value_counts('Degree_type') "
      ],
      "metadata": {
        "colab": {
          "base_uri": "https://localhost:8080/"
        },
        "id": "VYLDzOYV5KWA",
        "outputId": "c2df9268-866f-4ddc-f842-b6aafc7f12a5"
      },
      "execution_count": 79,
      "outputs": [
        {
          "output_type": "execute_result",
          "data": {
            "text/plain": [
              "Degree_type\n",
              "Bachelors    33\n",
              "Diploma      16\n",
              "dtype: int64"
            ]
          },
          "metadata": {},
          "execution_count": 79
        }
      ]
    },
    {
      "cell_type": "code",
      "source": [
        "#  To determine the number of people employed according to degree type\n",
        "MO=df.loc[(df['job_Status']== 'Casual/Not Employed')]     \n",
        "MO.value_counts('Degree_type') "
      ],
      "metadata": {
        "colab": {
          "base_uri": "https://localhost:8080/"
        },
        "id": "sf_d-Dad6kvh",
        "outputId": "f355103e-b1fc-4424-900b-cb02e34a53ff"
      },
      "execution_count": 80,
      "outputs": [
        {
          "output_type": "execute_result",
          "data": {
            "text/plain": [
              "Degree_type\n",
              "Bachelors    8\n",
              "Diploma      6\n",
              "dtype: int64"
            ]
          },
          "metadata": {},
          "execution_count": 80
        }
      ]
    },
    {
      "cell_type": "code",
      "metadata": {
        "colab": {
          "base_uri": "https://localhost:8080/",
          "height": 217
        },
        "id": "dvda-EBnev4A",
        "outputId": "b4b05fbf-1ef5-4979-c511-aa524466d481"
      },
      "source": [
        "#DCompare Job status vs Degree type\n",
        "#\n",
        "plt.figure(figsize=(30, 6))\n",
        "sns.countplot(x='job_Status', data=df ,hue= 'Degree_type' )"
      ],
      "execution_count": 81,
      "outputs": [
        {
          "output_type": "execute_result",
          "data": {
            "text/plain": [
              "<Axes: xlabel='job_Status', ylabel='count'>"
            ]
          },
          "metadata": {},
          "execution_count": 81
        },
        {
          "output_type": "display_data",
          "data": {
            "text/plain": [
              "<Figure size 3000x600 with 1 Axes>"
            ],
            "image/png": "[encoded data removed]"
          },
          "metadata": {}
        }
      ]
    },
    {
      "cell_type": "markdown",
      "source": [
        "### How do the results change within the different segments Alumni w degree vs. Alumni w/o degree"
      ],
      "metadata": {
        "id": "fXNkdt0B7fuJ"
      }
    },
    {
      "cell_type": "code",
      "source": [
        "#  To determine the number of people employed within the different segments Alumni w degree vs. Alumni w/o degree\n",
        "MO=df.loc[(df['job_Status']== 'Formally Employed')]     \n",
        "MO.value_counts('StatusinSF') "
      ],
      "metadata": {
        "colab": {
          "base_uri": "https://localhost:8080/"
        },
        "id": "G5Fk2Fp27TtA",
        "outputId": "d1a03b40-32ea-464c-b380-1aec34ccab88"
      },
      "execution_count": 82,
      "outputs": [
        {
          "output_type": "execute_result",
          "data": {
            "text/plain": [
              "StatusinSF\n",
              "Alumni with degree    34\n",
              "Alumni w/o degree     15\n",
              "dtype: int64"
            ]
          },
          "metadata": {},
          "execution_count": 82
        }
      ]
    },
    {
      "cell_type": "code",
      "source": [
        "# To determine the number of people NOT-employed within the different segments Alumni w degree vs. Alumni w/o degree\n",
        "PO=df.loc[(df['job_Status']== 'Casual/Not Employed')]     \n",
        "PO.value_counts('StatusinSF') "
      ],
      "metadata": {
        "colab": {
          "base_uri": "https://localhost:8080/"
        },
        "id": "q8YUsRfg7AkH",
        "outputId": "ad9630d0-4822-4baf-f47d-30af5300ed0b"
      },
      "execution_count": 83,
      "outputs": [
        {
          "output_type": "execute_result",
          "data": {
            "text/plain": [
              "StatusinSF\n",
              "Alumni w/o degree     7\n",
              "Alumni with degree    7\n",
              "dtype: int64"
            ]
          },
          "metadata": {},
          "execution_count": 83
        }
      ]
    },
    {
      "cell_type": "markdown",
      "source": [
        "### Compare Job status vs Alumni with degree or Alumni without degree"
      ],
      "metadata": {
        "id": "Cq0yZYKW35ih"
      }
    },
    {
      "cell_type": "code",
      "source": [
        "#Compare Job status vs Alumni with degree or Alumni without degree\n",
        "#\n",
        "plt.figure(figsize=(36, 6))\n",
        "sns.countplot(x='job_Status', data=df ,hue= 'StatusinSF')"
      ],
      "metadata": {
        "colab": {
          "base_uri": "https://localhost:8080/",
          "height": 0
        },
        "id": "9Up8ybjoIdYq",
        "outputId": "681e79c9-3156-4e99-c723-56ef58e87955"
      },
      "execution_count": 84,
      "outputs": [
        {
          "output_type": "execute_result",
          "data": {
            "text/plain": [
              "<Axes: xlabel='job_Status', ylabel='count'>"
            ]
          },
          "metadata": {},
          "execution_count": 84
        },
        {
          "output_type": "display_data",
          "data": {
            "text/plain": [
              "<Figure size 3600x600 with 1 Axes>"
            ],
            "image/png": "[encoded data removed]"
          },
          "metadata": {}
        }
      ]
    },
    {
      "cell_type": "markdown",
      "source": [
        "### What is the employment rate per field of study?"
      ],
      "metadata": {
        "id": "asmbIYul8JRE"
      }
    },
    {
      "cell_type": "code",
      "source": [
        "KO=df.loc[(df['job_Status']== 'Casual/Not Employed')]     \n",
        "KO.value_counts('PSProgramofStudy') "
      ],
      "metadata": {
        "colab": {
          "base_uri": "https://localhost:8080/"
        },
        "id": "xcrqpZpl7_Af",
        "outputId": "f5fef4d9-23e5-41ff-d7eb-7a99a5986d06"
      },
      "execution_count": 85,
      "outputs": [
        {
          "output_type": "execute_result",
          "data": {
            "text/plain": [
              "PSProgramofStudy\n",
              "Social Science and Humanities           4\n",
              "Agriculture                             2\n",
              "Economics and Statistics                2\n",
              "Mathematics                             2\n",
              "Commerce and Business Administration    1\n",
              "Communication and Journalism            1\n",
              "Education                               1\n",
              "Environmental Science                   1\n",
              "dtype: int64"
            ]
          },
          "metadata": {},
          "execution_count": 85
        }
      ]
    },
    {
      "cell_type": "code",
      "source": [
        "KO=df.loc[(df['job_Status']== 'Formally Employed')]     \n",
        "KO.value_counts('PSProgramofStudy') "
      ],
      "metadata": {
        "colab": {
          "base_uri": "https://localhost:8080/"
        },
        "id": "_cZOJCvp7z7W",
        "outputId": "082ca58d-02d8-42d5-d425-9f6c535aeeb3"
      },
      "execution_count": 86,
      "outputs": [
        {
          "output_type": "execute_result",
          "data": {
            "text/plain": [
              "PSProgramofStudy\n",
              "Computers and Information Technology    9\n",
              "Social Science and Humanities           6\n",
              "Economics and Statistics                5\n",
              "Law                                     5\n",
              "Commerce and Business Administration    4\n",
              "Agriculture                             3\n",
              "Engineering                             3\n",
              "Mathematics                             3\n",
              "Construction                            2\n",
              "Hospitality and Tourism                 2\n",
              "Medical Laboratories                    2\n",
              "Education                               1\n",
              "Human Resources                         1\n",
              "Nursing                                 1\n",
              "Other                                   1\n",
              "Public Health                           1\n",
              "dtype: int64"
            ]
          },
          "metadata": {},
          "execution_count": 86
        }
      ]
    },
    {
      "cell_type": "code",
      "source": [
        "#Compare Job status vsProgram studied\n",
        "plt.figure(figsize=(36, 6))\n",
        "sns.countplot(x='job_Status', data=df ,hue= 'PSProgramofStudy')"
      ],
      "metadata": {
        "colab": {
          "base_uri": "https://localhost:8080/",
          "height": 189
        },
        "id": "RgsdILlUJRzW",
        "outputId": "68054c09-6bff-474f-f023-9da68958b29f"
      },
      "execution_count": 87,
      "outputs": [
        {
          "output_type": "execute_result",
          "data": {
            "text/plain": [
              "<Axes: xlabel='job_Status', ylabel='count'>"
            ]
          },
          "metadata": {},
          "execution_count": 87
        },
        {
          "output_type": "display_data",
          "data": {
            "text/plain": [
              "<Figure size 3600x600 with 1 Axes>"
            ],
            "image/png": "[encoded data removed]"
          },
          "metadata": {}
        }
      ]
    },
    {
      "cell_type": "markdown",
      "metadata": {
        "id": "q6C5O8WUacCf"
      },
      "source": [
        "### To determine whether volunteer experience determines if one gets a job\n"
      ]
    },
    {
      "cell_type": "code",
      "metadata": {
        "colab": {
          "base_uri": "https://localhost:8080/",
          "height": 299
        },
        "id": "aLcyaI5aV6B1",
        "outputId": "c42566f2-d4fc-4520-d615-a9ae3f159c86"
      },
      "source": [
        "#To determine whether volunteer experience determines if one gets a job\n",
        "#\n",
        "plt.figure(figsize=(23,7))\n",
        "sns.countplot(x='job_Status', data=df ,hue='Volunteer' )"
      ],
      "execution_count": 88,
      "outputs": [
        {
          "output_type": "execute_result",
          "data": {
            "text/plain": [
              "<Axes: xlabel='job_Status', ylabel='count'>"
            ]
          },
          "metadata": {},
          "execution_count": 88
        },
        {
          "output_type": "display_data",
          "data": {
            "text/plain": [
              "<Figure size 2300x700 with 1 Axes>"
            ],
            "image/png": "[encoded data removed]"
          },
          "metadata": {}
        }
      ]
    },
    {
      "cell_type": "markdown",
      "source": [
        "## CONCLUSION\n"
      ],
      "metadata": {
        "id": "9y6ALoYIKAoe"
      }
    },
    {
      "cell_type": "markdown",
      "source": [
        "From the analysis we can derive the following:\n",
        "1. "
      ],
      "metadata": {
        "id": "3cUixkoIKawo"
      }
    },
    {
      "cell_type": "markdown",
      "metadata": {
        "id": "_E6HN-deYwHX"
      },
      "source": [
        "##RECOMMENDATIONS"
      ]
    }
  ]
}